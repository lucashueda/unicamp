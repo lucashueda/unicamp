{
 "cells": [
  {
   "cell_type": "code",
   "execution_count": 100,
   "metadata": {},
   "outputs": [],
   "source": [
    "import numpy as np\n",
    "import pandas as pd\n",
    "import scipy\n",
    "import scipy.linalg\n",
    "\n",
    "def QfatoracaoGS(n, A):\n",
    "    Q = np.copy(A) #inicializa Q como uma copia de A\n",
    "    \n",
    "    normas2 = [] #cria um vetor que armazena as normas das bases ortogonais\n",
    "    \n",
    "    for j in range(n):\n",
    "        for k in range(j):\n",
    "            for i in range(n):\n",
    "                Q[i][j] -= np.dot(A[:,j],Q[:,k])*Q[i][k]/(normas2[k]) #remove as projecoes do vetor com relacao as outras bases ortogonais\n",
    "\n",
    "        normas2.append(np.dot(Q[:,j],Q[:,j]))\n",
    "    \n",
    "    #ate aqui, Q tem bases ortoGONAIS, precisamos torna-las ortoNORMAIS: dividimos pelo modulo do vetor da base\n",
    "    \n",
    "    for j in range(n):\n",
    "        for i in range(n):\n",
    "            Q[i,j] = Q[i,j]/np.sqrt(normas2[j])\n",
    "        \n",
    "    return Q\n",
    "\n",
    "def RfatoracaoGS(Q, A):\n",
    "    return np.dot(np.transpose(Q), A)\n",
    "\n",
    "def getHilbert(n):\n",
    "    \n",
    "    A = np.zeros([n,n])\n",
    "    \n",
    "    for i in range(n):\n",
    "        for j in range(n):\n",
    "            A[i][j] = 1/(i+j+1)\n",
    "            \n",
    "    return A\n",
    "\n",
    "def transposta(A):\n",
    "    linhas = len(A)\n",
    "    colunas = len(A[0])\n",
    "    \n",
    "    if(linhas != colunas):\n",
    "        print(\"error: A matriz não é quadrada\")\n",
    "    \n",
    "    return np.array([[ A[i][j] for i in range(linhas)] for j in range(colunas)])\n",
    "\n",
    "def retroSub(A,b):\n",
    "    \n",
    "    n = len(A) \n",
    "    m = len(A[0]) \n",
    "    \n",
    "    \n",
    "    x = np.zeros(n)\n",
    "    # Checando consistência A \n",
    "    \n",
    "    # Resolvendo retro substituição para A triangular superior\n",
    "    # Iniciando o último elemento\n",
    "    x[n-1] = b[n-1]/A[n-1][n-1]\n",
    "    \n",
    "    soma = 0\n",
    "    \n",
    "    for i in range(n-2,-1,-1):\n",
    "        soma = b[i]\n",
    "\n",
    "        for j in range(i+1, n):\n",
    "            soma = soma - A[i][j]*x[j]\n",
    "            \n",
    "        x[i] = soma/A[i][i]\n",
    "\n",
    "    return x\n",
    "\n",
    "def resolve_sistema_1d(R,b):\n",
    "        b = np.array(b)\n",
    "          \n",
    "        return retroSub(R, b)\n",
    "\n",
    "def resolve_sistema(Q, R, b):\n",
    "        b = np.array(b)\n",
    "        \n",
    "        b = np.dot(transposta(Q),b)\n",
    "        \n",
    "        n2 = b.shape[0]\n",
    "        \n",
    "        if(len(b.shape) == 1):\n",
    "            m = 1\n",
    "        else:\n",
    "            m = b.shape[1]\n",
    "        \n",
    "        resultado = np.eye(n2)\n",
    "        \n",
    "        for i in range(m):\n",
    "            resultado[:,i] = resolve_sistema_1d(R,b[:,i])\n",
    "            \n",
    "        return resultado\n",
    "    \n",
    "def norma_mat1(A):\n",
    "    \n",
    "    A = np.array(A)\n",
    "    \n",
    "    \n",
    "\n",
    "    \n",
    "    if((A.shape == (int(A.shape[0]),)) | (A.shape[0] == 1)):\n",
    "\n",
    "        return sum([np.abs(v) for v in A])\n",
    "    \n",
    "    c = []\n",
    "    \n",
    "    \n",
    "    for i in range(A.shape[0]):\n",
    "        c.append(sum([np.abs(v) for v in A[:,i]]))\n",
    "    \n",
    "    \n",
    "    return np.max(c)"
   ]
  },
  {
   "cell_type": "markdown",
   "metadata": {},
   "source": [
    "# Inicializando uma matriz de hilbert"
   ]
  },
  {
   "cell_type": "code",
   "execution_count": 106,
   "metadata": {},
   "outputs": [
    {
     "data": {
      "text/plain": [
       "array([[1.        , 0.5       , 0.33333333],\n",
       "       [0.5       , 0.33333333, 0.25      ],\n",
       "       [0.33333333, 0.25      , 0.2       ]])"
      ]
     },
     "execution_count": 106,
     "metadata": {},
     "output_type": "execute_result"
    }
   ],
   "source": [
    "n=3\n",
    "H = getHilbert(n)\n",
    "H"
   ]
  },
  {
   "cell_type": "markdown",
   "metadata": {},
   "source": [
    "# Fazendo a fatoração QR pela classe construida"
   ]
  },
  {
   "cell_type": "code",
   "execution_count": 107,
   "metadata": {},
   "outputs": [],
   "source": [
    "Q = QfatoracaoGS(n,H)\n",
    "R = RfatoracaoGS(Q,H)"
   ]
  },
  {
   "cell_type": "markdown",
   "metadata": {},
   "source": [
    "# Testando propriedades de Q"
   ]
  },
  {
   "cell_type": "code",
   "execution_count": 121,
   "metadata": {},
   "outputs": [
    {
     "data": {
      "text/plain": [
       "array([[ 1., -0.,  0.],\n",
       "       [-0.,  1.,  0.],\n",
       "       [ 0.,  0.,  1.]])"
      ]
     },
     "execution_count": 121,
     "metadata": {},
     "output_type": "execute_result"
    }
   ],
   "source": [
    "np.dot(Q,transposta(Q)).round(4)"
   ]
  },
  {
   "cell_type": "markdown",
   "metadata": {},
   "source": [
    "# Testando a resolução de sistema linear e encontrando a inversa"
   ]
  },
  {
   "cell_type": "code",
   "execution_count": 109,
   "metadata": {
    "scrolled": true
   },
   "outputs": [
    {
     "data": {
      "text/plain": [
       "array([[   9.,  -36.,   30.],\n",
       "       [ -36.,  192., -180.],\n",
       "       [  30., -180.,  180.]])"
      ]
     },
     "execution_count": 109,
     "metadata": {},
     "output_type": "execute_result"
    }
   ],
   "source": [
    "inv_GS = resolve_sistema(Q, R, np.eye(n))\n",
    "inv_GS"
   ]
  },
  {
   "cell_type": "code",
   "execution_count": 110,
   "metadata": {},
   "outputs": [
    {
     "data": {
      "text/plain": [
       "array([[ 1., -0.,  0.],\n",
       "       [-0.,  1., -0.],\n",
       "       [ 0., -0.,  1.]])"
      ]
     },
     "execution_count": 110,
     "metadata": {},
     "output_type": "execute_result"
    }
   ],
   "source": [
    "np.dot(H,inv_GS).round(4)"
   ]
  },
  {
   "cell_type": "code",
   "execution_count": 119,
   "metadata": {},
   "outputs": [
    {
     "name": "stdout",
     "output_type": "stream",
     "text": [
      "[[ 0.85714286 -0.50160492  0.11704115]\n",
      " [ 0.42857143  0.56848557 -0.70224688]\n",
      " [ 0.28571429  0.65208639  0.70224688]]\n",
      "\n",
      "\n",
      "[[ 1.16666667e+00  6.42857143e-01  4.50000000e-01]\n",
      " [ 6.66133815e-16  1.01714330e-01  1.05337032e-01]\n",
      " [-2.46191956e-14 -1.98452366e-14  3.90137157e-03]]\n"
     ]
    }
   ],
   "source": [
    "print(Q)\n",
    "print('\\n')\n",
    "print(R)"
   ]
  },
  {
   "cell_type": "code",
   "execution_count": 112,
   "metadata": {},
   "outputs": [
    {
     "data": {
      "text/plain": [
       "array([[   9.,  -36.,   30.],\n",
       "       [ -36.,  192., -180.],\n",
       "       [  30., -180.,  180.]])"
      ]
     },
     "execution_count": 112,
     "metadata": {},
     "output_type": "execute_result"
    }
   ],
   "source": [
    "inf = np.linalg.solve(R, np.dot(transposta(Q),np.eye(n)))\n",
    "inf"
   ]
  },
  {
   "cell_type": "code",
   "execution_count": 113,
   "metadata": {},
   "outputs": [
    {
     "data": {
      "text/plain": [
       "array([[ 1.,  0.,  0.],\n",
       "       [ 0.,  1., -0.],\n",
       "       [ 0.,  0.,  1.]])"
      ]
     },
     "execution_count": 113,
     "metadata": {},
     "output_type": "execute_result"
    }
   ],
   "source": [
    "np.dot(H,inf).round(4)"
   ]
  },
  {
   "cell_type": "code",
   "execution_count": 114,
   "metadata": {},
   "outputs": [
    {
     "data": {
      "text/plain": [
       "array([[   9.,  -36.,   30.],\n",
       "       [ -36.,  192., -180.],\n",
       "       [  30., -180.,  180.]])"
      ]
     },
     "execution_count": 114,
     "metadata": {},
     "output_type": "execute_result"
    }
   ],
   "source": [
    "invof = np.linalg.solve(H,np.eye(n)) \n",
    "invof"
   ]
  },
  {
   "cell_type": "code",
   "execution_count": 115,
   "metadata": {},
   "outputs": [
    {
     "data": {
      "text/plain": [
       "array([[ 1.,  0.,  0.],\n",
       "       [ 0.,  1.,  0.],\n",
       "       [ 0., -0.,  1.]])"
      ]
     },
     "execution_count": 115,
     "metadata": {},
     "output_type": "execute_result"
    }
   ],
   "source": [
    "np.dot(H,invof).round(4)"
   ]
  },
  {
   "cell_type": "markdown",
   "metadata": {},
   "source": [
    "# Calculando K1 e conferindo as condições"
   ]
  },
  {
   "cell_type": "code",
   "execution_count": 116,
   "metadata": {},
   "outputs": [
    {
     "data": {
      "text/plain": [
       "748.0000000030523"
      ]
     },
     "execution_count": 116,
     "metadata": {},
     "output_type": "execute_result"
    }
   ],
   "source": [
    "K1 = norma_mat1(inv_GS)*norma_mat1(H)\n",
    "K1"
   ]
  },
  {
   "cell_type": "code",
   "execution_count": 118,
   "metadata": {},
   "outputs": [
    {
     "name": "stdout",
     "output_type": "stream",
     "text": [
      "\n",
      "K1 é maior que a coluna 0 pela coluna 1, K1 vale 748.0 e cond vale 1.6923\n",
      "\n",
      "\n",
      "K1 é maior que a coluna 0 pela coluna 2, K1 vale 748.0 e cond vale 2.3404\n",
      "\n",
      "\n",
      "K1 é maior que a coluna 1 pela coluna 0, K1 vale 748.0 e cond vale 0.5909\n",
      "\n",
      "\n",
      "K1 é maior que a coluna 1 pela coluna 2, K1 vale 748.0 e cond vale 1.383\n",
      "\n",
      "\n",
      "K1 é maior que a coluna 2 pela coluna 0, K1 vale 748.0 e cond vale 0.4273\n",
      "\n",
      "\n",
      "K1 é maior que a coluna 2 pela coluna 1, K1 vale 748.0 e cond vale 0.7231\n",
      "\n"
     ]
    }
   ],
   "source": [
    "for k in range(n):\n",
    "    for j in range(n):\n",
    "        if(k!=j):\n",
    "            ni = norma_mat1(H[:,k])\n",
    "            nj = norma_mat1(H[:,j])\n",
    "\n",
    "            cond = ni/nj\n",
    "\n",
    "            if(K1 > cond):\n",
    "                print(f\"\\nK1 é maior que a coluna {k} pela coluna {j}, K1 vale {K1.round(4)} e cond vale {cond.round(4)}\\n\")\n",
    "            else:\n",
    "                print(\"não funciona\")"
   ]
  },
  {
   "cell_type": "code",
   "execution_count": null,
   "metadata": {},
   "outputs": [],
   "source": []
  }
 ],
 "metadata": {
  "kernelspec": {
   "display_name": "Python 3",
   "language": "python",
   "name": "python3"
  },
  "language_info": {
   "codemirror_mode": {
    "name": "ipython",
    "version": 3
   },
   "file_extension": ".py",
   "mimetype": "text/x-python",
   "name": "python",
   "nbconvert_exporter": "python",
   "pygments_lexer": "ipython3",
   "version": "3.7.3"
  }
 },
 "nbformat": 4,
 "nbformat_minor": 2
}
