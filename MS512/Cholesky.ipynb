{
  "nbformat": 4,
  "nbformat_minor": 0,
  "metadata": {
    "colab": {
      "name": "Cholesky.ipynb",
      "version": "0.3.2",
      "provenance": [],
      "collapsed_sections": []
    },
    "kernelspec": {
      "name": "python3",
      "display_name": "Python 3"
    }
  },
  "cells": [
    {
      "cell_type": "code",
      "metadata": {
        "id": "p6XhKNBTu9fx",
        "colab_type": "code",
        "colab": {}
      },
      "source": [
        "import numpy as np\n",
        "import pandas as pd\n",
        "\n",
        "def Cholesky(n, A):\n",
        "             \n",
        "    L = np.zeros((n,n)) \n",
        "       \n",
        "    L[0][0] = np.sqrt(A[0][0]) #definindo primeiro elemento da matriz\n",
        "    \n",
        "    \n",
        "    for i in range(1, n): #definindo primeira coluna da matriz\n",
        "      L[i][0]=A[i][0]/L[0][0]\n",
        "      \n",
        "    \n",
        "    for i in range(1, n-1): #definindo as demais colunas da matriz \n",
        "     \n",
        "      L[i][i] = A[i][i] #definindo cada um dos elementos da diagonal \n",
        "      for k in range (i): \n",
        "        L[i][i]= L[i][i] - (L[i][k])**2\n",
        "      L[i][i] = np.sqrt(L[i][i])  \n",
        "          \n",
        "      for j in range (i+1, n): #definindo os elementos abaixo da diagonal \n",
        "        L[j][i]=A[j][i]\n",
        "        for k in range (i):\n",
        "          L[j][i]= L[j][i] - L[j][k]*L[i][k]\n",
        "        L[j][i]= L[j][i]/L[i][i]  \n",
        "        \n",
        "    \n",
        "    L[n-1][n-1] = A[n-1][n-1] #definindo o último elemento da matriz\n",
        "    for k in range (0, n-1):\n",
        "      L[n-1][n-1] = L[n-1][n-1] - (L[n-1][k])**2\n",
        "      \n",
        "  \n",
        "    L[n-1][n-1] = np.sqrt(L[n-1][n-1])\n",
        "    \n",
        "    \n",
        "    T = np.transpose(L)\n",
        "    print(L)\n",
        "    print(T)\n",
        "    \n",
        "    return L, T\n",
        "       "
      ],
      "execution_count": 0,
      "outputs": []
    },
    {
      "cell_type": "code",
      "metadata": {
        "id": "BnzCW3BO5U1B",
        "colab_type": "code",
        "colab": {}
      },
      "source": [
        "def invCholesky(n,L, T):\n",
        "\n",
        "  \n",
        "  Y = np.zeros((n,n)) \n",
        "  V = np.zeros((n,n)) #inversa do A\n",
        "  I = np.identity(n)\n",
        "  \n",
        "    \n",
        "  #Resolver o sistema AV=I -> LTV=I -> LX=I e TV=X\n",
        "  \n",
        "  for i in range (0,n): #percorrer colunas do Y e I\n",
        "        Y[i] = np.linalg.solve(L,I[i])\n",
        "  \n",
        "  \n",
        "  for i in range (0,n):   #percorrer colunas do V e Y\n",
        "        V[i] = np.linalg.solve(T,Y[i])\n",
        "    \n",
        "  \n",
        "  print (V)\n",
        " \n",
        "  return V"
      ],
      "execution_count": 0,
      "outputs": []
    },
    {
      "cell_type": "code",
      "metadata": {
        "id": "S1Tffj4hunVl",
        "colab_type": "code",
        "colab": {}
      },
      "source": [
        "def getHilbert(n):\n",
        "    \n",
        "    A = np.zeros([n,n])\n",
        "    \n",
        "    for i in range(n):\n",
        "        for j in range(n):\n",
        "            A[i][j] = 1/(i+j+1)\n",
        "            \n",
        "    return A"
      ],
      "execution_count": 0,
      "outputs": []
    },
    {
      "cell_type": "code",
      "metadata": {
        "id": "oc2_TP49wJLm",
        "colab_type": "code",
        "colab": {}
      },
      "source": [
        "A = [[1,1,2],\n",
        "     [1,3,3],\n",
        "     [2,3,6]] #matrizinha pra testes"
      ],
      "execution_count": 0,
      "outputs": []
    },
    {
      "cell_type": "code",
      "metadata": {
        "id": "rxZjZUxVhOxP",
        "colab_type": "code",
        "outputId": "47564d83-f7d3-42b4-c101-8814f363074f",
        "colab": {
          "base_uri": "https://localhost:8080/",
          "height": 119
        }
      },
      "source": [
        "L,T = Cholesky(3,A)"
      ],
      "execution_count": 0,
      "outputs": [
        {
          "output_type": "stream",
          "text": [
            "[[1.         0.         0.        ]\n",
            " [1.         1.41421356 0.        ]\n",
            " [2.         0.70710678 1.22474487]]\n",
            "[[1.         1.         2.        ]\n",
            " [0.         1.41421356 0.70710678]\n",
            " [0.         0.         1.22474487]]\n"
          ],
          "name": "stdout"
        }
      ]
    },
    {
      "cell_type": "code",
      "metadata": {
        "id": "6v-6WUOyhckd",
        "colab_type": "code",
        "colab": {}
      },
      "source": [
        "A = np.dot(L,T)"
      ],
      "execution_count": 0,
      "outputs": []
    },
    {
      "cell_type": "code",
      "metadata": {
        "id": "NGKj4KbMgZc2",
        "colab_type": "code",
        "outputId": "a8d54937-309e-4fe0-82f6-ed6688be3fae",
        "colab": {
          "base_uri": "https://localhost:8080/",
          "height": 170
        }
      },
      "source": [
        "A = getHilbert(3)\n",
        "L,T = Cholesky(3,A)\n",
        "A=np.dot(L,T)\n",
        "print (A)\n",
        "\n"
      ],
      "execution_count": 0,
      "outputs": [
        {
          "output_type": "stream",
          "text": [
            "[[1.         0.         0.        ]\n",
            " [0.5        0.28867513 0.        ]\n",
            " [0.33333333 0.28867513 0.0745356 ]]\n",
            "[[1.         0.5        0.33333333]\n",
            " [0.         0.28867513 0.28867513]\n",
            " [0.         0.         0.0745356 ]]\n",
            "[[1.         0.5        0.33333333]\n",
            " [0.5        0.33333333 0.25      ]\n",
            " [0.33333333 0.25       0.2       ]]\n"
          ],
          "name": "stdout"
        }
      ]
    },
    {
      "cell_type": "code",
      "metadata": {
        "id": "7S-CnT-ru5Tp",
        "colab_type": "code",
        "outputId": "cdf7fade-3973-4104-bb8d-96580cdd32c6",
        "colab": {
          "base_uri": "https://localhost:8080/",
          "height": 68
        }
      },
      "source": [
        "  V = invCholesky(3,L, T)"
      ],
      "execution_count": 0,
      "outputs": [
        {
          "output_type": "stream",
          "text": [
            "[[   9.  -36.   30.]\n",
            " [ -36.  192. -180.]\n",
            " [  30. -180.  180.]]\n"
          ],
          "name": "stdout"
        }
      ]
    },
    {
      "cell_type": "code",
      "metadata": {
        "id": "uc02CVVnFpnQ",
        "colab_type": "code",
        "outputId": "9fa7d925-8a34-45a8-8869-12e5da63b265",
        "colab": {
          "base_uri": "https://localhost:8080/",
          "height": 68
        }
      },
      "source": [
        "P = np.dot(V,A)\n",
        "print (P)"
      ],
      "execution_count": 0,
      "outputs": [
        {
          "output_type": "stream",
          "text": [
            "[[ 1.00000000e+00  0.00000000e+00  3.33066907e-16]\n",
            " [-1.40628250e-15  1.00000000e+00  2.26485497e-15]\n",
            " [-3.33066907e-15  0.00000000e+00  1.00000000e+00]]\n"
          ],
          "name": "stdout"
        }
      ]
    },
    {
      "cell_type": "code",
      "metadata": {
        "id": "C_T5VViqweDO",
        "colab_type": "code",
        "colab": {}
      },
      "source": [
        "def norma_mat1(A):\n",
        "    \n",
        "    A = np.array(A)\n",
        "    \n",
        "    \n",
        "\n",
        "    \n",
        "    if((A.shape == (int(A.shape[0]),)) | (A.shape[0] == 1)):\n",
        "\n",
        "        return sum([np.abs(v) for v in A])\n",
        "    \n",
        "    c = []\n",
        "    \n",
        "    \n",
        "    for i in range(A.shape[0]):\n",
        "        c.append(sum([np.abs(v) for v in A[:,i]]))\n",
        "    \n",
        "    \n",
        "    return np.max(c)"
      ],
      "execution_count": 0,
      "outputs": []
    },
    {
      "cell_type": "code",
      "metadata": {
        "id": "dmaP-XkUGD3Z",
        "colab_type": "code",
        "outputId": "0586a207-2827-4ad7-d770-2061605e71a6",
        "colab": {
          "base_uri": "https://localhost:8080/",
          "height": 323
        }
      },
      "source": [
        "K1 = norma_mat1(V)*norma_mat1(A)\n",
        "K1\n",
        "\n",
        "n=3\n",
        "for k in range(n):\n",
        "    for j in range(n):\n",
        "        if(k!=j):\n",
        "            ni = norma_mat1(A[:,k])\n",
        "            nj = norma_mat1(A[:,j])\n",
        "\n",
        "            cond = ni/nj\n",
        "\n",
        "            if(K1 > cond):\n",
        "                print(f\"\\nK1 é maior que a coluna {k} pela coluna {j}, K1 vale {K1.round(4)} e cond vale {cond.round(4)}\\n\")\n",
        "            else:\n",
        "                print(\"nop\")"
      ],
      "execution_count": 0,
      "outputs": [
        {
          "output_type": "stream",
          "text": [
            "\n",
            "K1 é maior que a coluna 0 pela coluna 1, K1 vale 748.0 e cond vale 1.6923\n",
            "\n",
            "\n",
            "K1 é maior que a coluna 0 pela coluna 2, K1 vale 748.0 e cond vale 2.3404\n",
            "\n",
            "\n",
            "K1 é maior que a coluna 1 pela coluna 0, K1 vale 748.0 e cond vale 0.5909\n",
            "\n",
            "\n",
            "K1 é maior que a coluna 1 pela coluna 2, K1 vale 748.0 e cond vale 1.383\n",
            "\n",
            "\n",
            "K1 é maior que a coluna 2 pela coluna 0, K1 vale 748.0 e cond vale 0.4273\n",
            "\n",
            "\n",
            "K1 é maior que a coluna 2 pela coluna 1, K1 vale 748.0 e cond vale 0.7231\n",
            "\n"
          ],
          "name": "stdout"
        }
      ]
    },
    {
      "cell_type": "code",
      "metadata": {
        "id": "G6dNYFtSwoJg",
        "colab_type": "code",
        "colab": {}
      },
      "source": [
        ""
      ],
      "execution_count": 0,
      "outputs": []
    }
  ]
}