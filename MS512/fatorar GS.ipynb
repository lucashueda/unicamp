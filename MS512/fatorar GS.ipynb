{
 "cells": [
  {
   "cell_type": "code",
   "execution_count": 4,
   "metadata": {
    "collapsed": true
   },
   "outputs": [],
   "source": [
    "import numpy as np\n",
    "import pandas as pd\n",
    "\n",
    "def QfatoracaoGS(n, A):\n",
    "    Q = np.copy(A) #inicializa Q como uma copia de A\n",
    "    \n",
    "    normas2 = [] #cria um vetor que armazena as normas das bases ortogonais\n",
    "    \n",
    "    for j in range(n):\n",
    "#        print(np.sqrt(Q[:,j].dot(Q[:,j]))) ### verificacao\n",
    "        for k in range(j):\n",
    "            for i in range(n):\n",
    "#                print(Q[i][j]) #\n",
    " #               print(Q[i][k]) #\n",
    "  #              print(np.dot(A[:,j],Q[:,k]), Q[i][k], normas2[k]) #\n",
    "                Q[i][j] -= np.dot(A[:,j],Q[:,k])*Q[i][k]/(normas2[k]) #remove as projecoes do vetor com relacao as outras bases ortogonais\n",
    "   #             print(Q[i][j]) #\n",
    "    #            print(Q[i][k]) #\n",
    "     #           print(\"------\") #\n",
    "        normas2.append(np.dot(Q[:,j],Q[:,j]))\n",
    "    \n",
    "    #ate aqui, Q tem bases ortoGONAIS, precisamos torna-las ortoNORMAIS: dividimos pelo modulo do vetor da base\n",
    "    \n",
    "    for j in range(n):\n",
    "         Q[:,j] = Q[:,j]/np.sqrt(normas2[j])\n",
    "            \n",
    "    print(normas2) #\n",
    "    print(Q) #\n",
    "        \n",
    "    return Q\n",
    "\n",
    "def RfatoracaoGS(Q, A):\n",
    "    return np.dot(np.transpose(Q), A)\n",
    "\n",
    "def K1(A):\n",
    "    return np.linalg.det(np.linalg.inv(A))*np.linalg.det(A)\n",
    "\n",
    "def checarK1coluna(n,A):\n",
    "    a = 0\n",
    "    for j in range(n):\n",
    "        aj = np.linalg.norm(A[:,j])\n",
    "        for k in range(j):\n",
    "            ak = np.linalg.norm(A[:k])\n",
    "            if(ak != 0 and aj != 0):\n",
    "                a = max(a,aj/ak,ak/aj)\n",
    "    return a"
   ]
  },
  {
   "cell_type": "code",
   "execution_count": null,
   "metadata": {
    "collapsed": true
   },
   "outputs": [],
   "source": [
    "A = np.array([[1.,1.,0.],[0.,1.,1.], [1.,0.,1.]],dtype=np.float64)\n",
    "\n",
    "Q = QfatoracaoGS(3,A)\n",
    "R = RfatoracaoGS(Q,A)\n",
    "#print(R)\n",
    "#A1 = np.dot(Q, R)\n",
    "#print (A1)\n",
    "print (np.transpose(Q))\n",
    "print (A)\n",
    "print (np.dot(np.transpose(Q),A))\n",
    "print (R)"
   ]
  },
  {
   "cell_type": "code",
   "execution_count": 82,
   "metadata": {},
   "outputs": [
    {
     "name": "stdout",
     "output_type": "stream",
     "text": [
      "14.0\n",
      "176.2554963681984\n",
      "-51.0\n",
      "12.0\n",
      "294.0 12.0 196.0\n",
      "-69.0\n",
      "12.0\n",
      "------\n",
      "167.0\n",
      "6.0\n",
      "294.0 6.0 196.0\n",
      "158.0\n",
      "6.0\n",
      "------\n",
      "24.0\n",
      "-4.0\n",
      "294.0 -4.0 196.0\n",
      "30.0\n",
      "-4.0\n",
      "------\n",
      "79.50471684120383\n",
      "4.0\n",
      "12.0\n",
      "-196.0 12.0 196.0\n",
      "16.0\n",
      "12.0\n",
      "------\n",
      "-68.0\n",
      "6.0\n",
      "-196.0 6.0 196.0\n",
      "-62.0\n",
      "6.0\n",
      "------\n",
      "-41.0\n",
      "-4.0\n",
      "-196.0 -4.0 196.0\n",
      "-45.0\n",
      "-4.0\n",
      "------\n",
      "16.0\n",
      "-69.0\n",
      "-12250.0 -69.0 30625.0\n",
      "-11.600000000000001\n",
      "-69.0\n",
      "------\n",
      "-62.0\n",
      "158.0\n",
      "-12250.0 158.0 30625.0\n",
      "1.2000000000000028\n",
      "158.0\n",
      "------\n",
      "-45.0\n",
      "30.0\n",
      "-12250.0 30.0 30625.0\n",
      "-33.0\n",
      "30.0\n",
      "------\n",
      "[196.0, 30625.0, 1225.0]\n",
      "[[ 0.85714286 -0.39428571 -0.33142857]\n",
      " [ 0.42857143  0.90285714  0.03428571]\n",
      " [-0.28571429  0.17142857 -0.94285714]]\n"
     ]
    }
   ],
   "source": [
    "A = np.array([[12,-51,4],[6,167,-68],[-4,24,-41]],dtype=np.float64)\n",
    "Q = QfatoracaoGS(3,A)"
   ]
  },
  {
   "cell_type": "code",
   "execution_count": 1,
   "metadata": {},
   "outputs": [
    {
     "data": {
      "text/plain": [
       "-0.3314285714285714"
      ]
     },
     "execution_count": 1,
     "metadata": {},
     "output_type": "execute_result"
    }
   ],
   "source": [
    "-58/175"
   ]
  },
  {
   "cell_type": "code",
   "execution_count": 118,
   "metadata": {
    "collapsed": true
   },
   "outputs": [],
   "source": [
    "def RfatoracaoGS(Q, A):\n",
    "    return np.dot(np.transpose(Q), A)"
   ]
  },
  {
   "cell_type": "code",
   "execution_count": null,
   "metadata": {
    "collapsed": true
   },
   "outputs": [],
   "source": [
    "import time\n",
    "start = time.time()\n",
    "n = 1000\n",
    "A = np.random.rand(n,n)\n",
    "print(\"a\")\n",
    "B = np.random.rand(n,n)\n",
    "print(\"a\")\n",
    "#for i in range(1000000):\n",
    "C = np.dot(A,B)\n",
    "\n",
    "end = time.time()\n",
    "print(end - start)"
   ]
  },
  {
   "cell_type": "code",
   "execution_count": null,
   "metadata": {
    "collapsed": true
   },
   "outputs": [],
   "source": []
  },
  {
   "cell_type": "code",
   "execution_count": null,
   "metadata": {
    "collapsed": true
   },
   "outputs": [],
   "source": []
  }
 ],
 "metadata": {
  "kernelspec": {
   "display_name": "Python 3",
   "language": "python",
   "name": "python3"
  },
  "language_info": {
   "codemirror_mode": {
    "name": "ipython",
    "version": 3
   },
   "file_extension": ".py",
   "mimetype": "text/x-python",
   "name": "python",
   "nbconvert_exporter": "python",
   "pygments_lexer": "ipython3",
   "version": "3.6.1"
  }
 },
 "nbformat": 4,
 "nbformat_minor": 2
}
