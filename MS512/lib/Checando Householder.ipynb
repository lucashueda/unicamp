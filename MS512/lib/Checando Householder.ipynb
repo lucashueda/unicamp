{
 "cells": [
  {
   "cell_type": "code",
   "execution_count": 149,
   "metadata": {},
   "outputs": [
    {
     "data": {
      "text/plain": [
       "<module 'householder' from 'C:\\\\Users\\\\Hideki\\\\Desktop\\\\Github\\\\unicamp\\\\MS512\\\\lib\\\\householder.py'>"
      ]
     },
     "execution_count": 149,
     "metadata": {},
     "output_type": "execute_result"
    }
   ],
   "source": [
    "import utils\n",
    "import householder as hh\n",
    "\n",
    "import importlib\n",
    "import numpy as np\n",
    "importlib.reload(utils)\n",
    "importlib.reload(hh)"
   ]
  },
  {
   "cell_type": "markdown",
   "metadata": {},
   "source": [
    "# Inicializando uma matriz de hilbert"
   ]
  },
  {
   "cell_type": "code",
   "execution_count": 150,
   "metadata": {
    "scrolled": true
   },
   "outputs": [
    {
     "data": {
      "text/plain": [
       "[[1.0, 0.5, 0.3333333333333333, 0.25],\n",
       " [0.5, 0.3333333333333333, 0.25, 0.2],\n",
       " [0.3333333333333333, 0.25, 0.2, 0.16666666666666666],\n",
       " [0.25, 0.2, 0.16666666666666666, 0.14285714285714285]]"
      ]
     },
     "execution_count": 150,
     "metadata": {},
     "output_type": "execute_result"
    }
   ],
   "source": [
    "H = utils.getHilbert(4).tolist()\n",
    "H"
   ]
  },
  {
   "cell_type": "markdown",
   "metadata": {},
   "source": [
    "# Fazendo a fatoração QR pela classe construida"
   ]
  },
  {
   "cell_type": "code",
   "execution_count": 151,
   "metadata": {
    "scrolled": true
   },
   "outputs": [],
   "source": [
    "house = hh.HouseHolder([1,2,3])\n",
    "Q2, R2= house.getQR(H)"
   ]
  },
  {
   "cell_type": "markdown",
   "metadata": {},
   "source": [
    "# Fazendo a fatoração QR pela lib do scipy"
   ]
  },
  {
   "cell_type": "code",
   "execution_count": 152,
   "metadata": {
    "collapsed": true
   },
   "outputs": [],
   "source": [
    "import scipy\n",
    "import scipy.linalg\n",
    "\n",
    "Q, R = scipy.linalg.qr(H)"
   ]
  },
  {
   "cell_type": "markdown",
   "metadata": {},
   "source": [
    "# Comparando as matrizes Q"
   ]
  },
  {
   "cell_type": "code",
   "execution_count": 153,
   "metadata": {
    "scrolled": false
   },
   "outputs": [
    {
     "name": "stdout",
     "output_type": "stream",
     "text": [
      "Matriz pelo scipy\n",
      "[[-0.8381  0.5226 -0.154  -0.0263]\n",
      " [-0.4191 -0.4417  0.7278  0.3157]\n",
      " [-0.2794 -0.5288 -0.1395 -0.7892]\n",
      " [-0.2095 -0.5021 -0.6536  0.5261]]\n",
      "\n",
      "\n",
      "Matriz pela classe\n",
      "[[-0.8381  0.5226 -0.154  -0.0263]\n",
      " [-0.4191 -0.4417  0.7278  0.3157]\n",
      " [-0.2794 -0.5288 -0.1395 -0.7892]\n",
      " [-0.2095 -0.5021 -0.6536  0.5261]]\n",
      "\n",
      "\n",
      "Diferença\n",
      "[[ 0. -0.  0. -0.]\n",
      " [ 0.  0. -0.  0.]\n",
      " [ 0. -0.  0. -0.]\n",
      " [ 0. -0. -0. -0.]]\n"
     ]
    }
   ],
   "source": [
    "print(\"Matriz pelo scipy\")\n",
    "print(Q.round(4))\n",
    "print('\\n')\n",
    "print(\"Matriz pela classe\")\n",
    "print(Q2.round(4))\n",
    "print('\\n')\n",
    "print(\"Diferença\")\n",
    "print((Q-Q2).round(4))"
   ]
  },
  {
   "cell_type": "code",
   "execution_count": 154,
   "metadata": {
    "scrolled": true
   },
   "outputs": [
    {
     "name": "stdout",
     "output_type": "stream",
     "text": [
      "Matriz pelo scipy\n",
      "[[ -1.19320000e+00  -6.70500000e-01  -4.74900000e-01  -3.69800000e-01]\n",
      " [  0.00000000e+00  -1.18500000e-01  -1.25700000e-01  -1.17500000e-01]\n",
      " [  0.00000000e+00   0.00000000e+00  -6.20000000e-03  -9.60000000e-03]\n",
      " [  0.00000000e+00   0.00000000e+00   0.00000000e+00   2.00000000e-04]]\n",
      "\n",
      "\n",
      "Matriz pela classe\n",
      "[[ -1.19320000e+00  -6.70500000e-01  -4.74900000e-01  -3.69800000e-01]\n",
      " [  0.00000000e+00  -1.18500000e-01  -1.25700000e-01  -1.17500000e-01]\n",
      " [ -0.00000000e+00   0.00000000e+00  -6.20000000e-03  -9.60000000e-03]\n",
      " [ -0.00000000e+00  -0.00000000e+00   0.00000000e+00   2.00000000e-04]]\n",
      "\n",
      "\n",
      "Diferença\n",
      "[[ 0.  0.  0.  0.]\n",
      " [-0. -0.  0. -0.]\n",
      " [ 0. -0.  0.  0.]\n",
      " [ 0.  0. -0. -0.]]\n"
     ]
    }
   ],
   "source": [
    "print(\"Matriz pelo scipy\")\n",
    "print(R.round(4))\n",
    "print('\\n')\n",
    "print(\"Matriz pela classe\")\n",
    "print(R2.round(4))\n",
    "print('\\n')\n",
    "print(\"Diferença\")\n",
    "print((R-R2).round(4))"
   ]
  },
  {
   "cell_type": "markdown",
   "metadata": {},
   "source": [
    "# Testando propriedades de Q"
   ]
  },
  {
   "cell_type": "code",
   "execution_count": 155,
   "metadata": {},
   "outputs": [
    {
     "data": {
      "text/plain": [
       "array([[ 1.,  0.,  0.,  0.],\n",
       "       [ 0.,  1., -0.,  0.],\n",
       "       [ 0., -0.,  1.,  0.],\n",
       "       [ 0.,  0.,  0.,  1.]])"
      ]
     },
     "execution_count": 155,
     "metadata": {},
     "output_type": "execute_result"
    }
   ],
   "source": [
    "np.dot(Q,utils.transposta(Q)).round(4)"
   ]
  },
  {
   "cell_type": "markdown",
   "metadata": {
    "collapsed": true
   },
   "source": [
    "# Nossa fatoração está boa"
   ]
  },
  {
   "cell_type": "markdown",
   "metadata": {},
   "source": [
    "# Testando a resolução de sistema linear"
   ]
  },
  {
   "cell_type": "code",
   "execution_count": 249,
   "metadata": {},
   "outputs": [
    {
     "data": {
      "text/plain": [
       "<module 'householder' from 'C:\\\\Users\\\\Hideki\\\\Desktop\\\\Github\\\\unicamp\\\\MS512\\\\lib\\\\householder.py'>"
      ]
     },
     "execution_count": 249,
     "metadata": {},
     "output_type": "execute_result"
    }
   ],
   "source": [
    "import utils\n",
    "import householder as hh\n",
    "\n",
    "import importlib\n",
    "import numpy as np\n",
    "importlib.reload(utils)\n",
    "importlib.reload(hh)"
   ]
  },
  {
   "cell_type": "code",
   "execution_count": 250,
   "metadata": {},
   "outputs": [
    {
     "data": {
      "text/plain": [
       "array([[ 1.        ,  0.5       ,  0.33333333,  0.25      ,  0.2       ],\n",
       "       [ 0.5       ,  0.33333333,  0.25      ,  0.2       ,  0.16666667],\n",
       "       [ 0.33333333,  0.25      ,  0.2       ,  0.16666667,  0.14285714],\n",
       "       [ 0.25      ,  0.2       ,  0.16666667,  0.14285714,  0.125     ],\n",
       "       [ 0.2       ,  0.16666667,  0.14285714,  0.125     ,  0.11111111]])"
      ]
     },
     "execution_count": 250,
     "metadata": {},
     "output_type": "execute_result"
    }
   ],
   "source": [
    "i = 5\n",
    "H = utils.getHilbert(i)\n",
    "H"
   ]
  },
  {
   "cell_type": "code",
   "execution_count": 251,
   "metadata": {},
   "outputs": [],
   "source": [
    "house = hh.HouseHolder(H)"
   ]
  },
  {
   "cell_type": "code",
   "execution_count": 252,
   "metadata": {},
   "outputs": [
    {
     "data": {
      "text/plain": [
       "array([[  2.50000000e+01,  -3.00000000e+02,   1.05000000e+03,\n",
       "         -1.40000000e+03,   6.30000000e+02],\n",
       "       [ -3.00000000e+02,   4.80000000e+03,  -1.89000000e+04,\n",
       "          2.68800000e+04,  -1.26000000e+04],\n",
       "       [  1.05000000e+03,  -1.89000000e+04,   7.93800000e+04,\n",
       "         -1.17600000e+05,   5.67000000e+04],\n",
       "       [ -1.40000000e+03,   2.68800000e+04,  -1.17600000e+05,\n",
       "          1.79200000e+05,  -8.82000000e+04],\n",
       "       [  6.30000000e+02,  -1.26000000e+04,   5.67000000e+04,\n",
       "         -8.82000000e+04,   4.41000000e+04]])"
      ]
     },
     "execution_count": 252,
     "metadata": {},
     "output_type": "execute_result"
    }
   ],
   "source": [
    "inv_house = house.resolve_sistema(np.eye(i))\n",
    "inv_house"
   ]
  },
  {
   "cell_type": "code",
   "execution_count": 253,
   "metadata": {},
   "outputs": [
    {
     "data": {
      "text/plain": [
       "array([[ 1.,  0., -0.,  0., -0.],\n",
       "       [-0.,  1., -0.,  0., -0.],\n",
       "       [-0.,  0.,  1.,  0., -0.],\n",
       "       [-0.,  0.,  0.,  1., -0.],\n",
       "       [-0., -0.,  0.,  0.,  1.]])"
      ]
     },
     "execution_count": 253,
     "metadata": {},
     "output_type": "execute_result"
    }
   ],
   "source": [
    "np.dot(H,inv_house).round(4)"
   ]
  },
  {
   "cell_type": "code",
   "execution_count": 254,
   "metadata": {
    "collapsed": true
   },
   "outputs": [],
   "source": [
    "Q, R = scipy.linalg.qr(H)"
   ]
  },
  {
   "cell_type": "code",
   "execution_count": 255,
   "metadata": {
    "scrolled": true
   },
   "outputs": [
    {
     "name": "stdout",
     "output_type": "stream",
     "text": [
      "[[-0.8265843   0.53335463 -0.17530535  0.03910207  0.00550474]\n",
      " [-0.41329215 -0.37405354  0.7172624  -0.40334521 -0.11009471]\n",
      " [-0.2755281  -0.46294598  0.05766473  0.67896462  0.49542619]\n",
      " [-0.20664607 -0.44331911 -0.35262561  0.20615371 -0.77066296]\n",
      " [-0.16531686 -0.40591376 -0.57195511 -0.57644719  0.38533148]]\n",
      "\n",
      "\n",
      "[[ -1.20979796e+00  -6.88820248e-01  -4.92014463e-01  -3.85411329e-01\n",
      "   -3.17759341e-01]\n",
      " [  0.00000000e+00  -1.30059810e-01  -1.40191904e-01  -1.32700236e-01\n",
      "   -1.22322889e-01]\n",
      " [  0.00000000e+00   0.00000000e+00  -8.06537859e-03  -1.26325450e-02\n",
      "   -1.49082870e-02]\n",
      " [  0.00000000e+00   0.00000000e+00   0.00000000e+00  -3.38121669e-04\n",
      "   -6.89314703e-04]\n",
      " [  0.00000000e+00   0.00000000e+00   0.00000000e+00   0.00000000e+00\n",
      "    8.73767527e-06]]\n"
     ]
    }
   ],
   "source": [
    "print(Q)\n",
    "print('\\n')\n",
    "print(R)"
   ]
  },
  {
   "cell_type": "code",
   "execution_count": 257,
   "metadata": {},
   "outputs": [
    {
     "data": {
      "text/plain": [
       "array([[  2.50000000e+01,  -3.00000000e+02,   1.05000000e+03,\n",
       "         -1.40000000e+03,   6.30000000e+02],\n",
       "       [ -3.00000000e+02,   4.80000000e+03,  -1.89000000e+04,\n",
       "          2.68800000e+04,  -1.26000000e+04],\n",
       "       [  1.05000000e+03,  -1.89000000e+04,   7.93800000e+04,\n",
       "         -1.17600000e+05,   5.67000000e+04],\n",
       "       [ -1.40000000e+03,   2.68800000e+04,  -1.17600000e+05,\n",
       "          1.79200000e+05,  -8.82000000e+04],\n",
       "       [  6.30000000e+02,  -1.26000000e+04,   5.67000000e+04,\n",
       "         -8.82000000e+04,   4.41000000e+04]])"
      ]
     },
     "execution_count": 257,
     "metadata": {},
     "output_type": "execute_result"
    }
   ],
   "source": [
    "inf = np.linalg.solve(R, np.dot(utils.transposta(Q),np.eye(i)))\n",
    "inf"
   ]
  },
  {
   "cell_type": "code",
   "execution_count": 258,
   "metadata": {},
   "outputs": [
    {
     "data": {
      "text/plain": [
       "array([[ 1.,  0., -0.,  0., -0.],\n",
       "       [ 0.,  1.,  0., -0.,  0.],\n",
       "       [ 0., -0.,  1.,  0.,  0.],\n",
       "       [ 0., -0.,  0.,  1.,  0.],\n",
       "       [ 0., -0.,  0., -0.,  1.]])"
      ]
     },
     "execution_count": 258,
     "metadata": {},
     "output_type": "execute_result"
    }
   ],
   "source": [
    "np.dot(H,inf).round(4)"
   ]
  },
  {
   "cell_type": "code",
   "execution_count": 259,
   "metadata": {},
   "outputs": [
    {
     "data": {
      "text/plain": [
       "array([[  2.50000000e+01,  -3.00000000e+02,   1.05000000e+03,\n",
       "         -1.40000000e+03,   6.30000000e+02],\n",
       "       [ -3.00000000e+02,   4.80000000e+03,  -1.89000000e+04,\n",
       "          2.68800000e+04,  -1.26000000e+04],\n",
       "       [  1.05000000e+03,  -1.89000000e+04,   7.93800000e+04,\n",
       "         -1.17600000e+05,   5.67000000e+04],\n",
       "       [ -1.40000000e+03,   2.68800000e+04,  -1.17600000e+05,\n",
       "          1.79200000e+05,  -8.82000000e+04],\n",
       "       [  6.30000000e+02,  -1.26000000e+04,   5.67000000e+04,\n",
       "         -8.82000000e+04,   4.41000000e+04]])"
      ]
     },
     "execution_count": 259,
     "metadata": {},
     "output_type": "execute_result"
    }
   ],
   "source": [
    "invof = np.linalg.solve(H,np.eye(i)) \n",
    "invof"
   ]
  },
  {
   "cell_type": "code",
   "execution_count": 260,
   "metadata": {},
   "outputs": [
    {
     "data": {
      "text/plain": [
       "array([[ 1., -0.,  0.,  0., -0.],\n",
       "       [ 0.,  1., -0., -0., -0.],\n",
       "       [ 0., -0.,  1.,  0.,  0.],\n",
       "       [ 0., -0.,  0.,  1.,  0.],\n",
       "       [-0.,  0., -0.,  0.,  1.]])"
      ]
     },
     "execution_count": 260,
     "metadata": {},
     "output_type": "execute_result"
    }
   ],
   "source": [
    "np.dot(H,invof).round(4)"
   ]
  },
  {
   "cell_type": "code",
   "execution_count": null,
   "metadata": {
    "collapsed": true
   },
   "outputs": [],
   "source": []
  },
  {
   "cell_type": "code",
   "execution_count": null,
   "metadata": {
    "collapsed": true
   },
   "outputs": [],
   "source": []
  }
 ],
 "metadata": {
  "kernelspec": {
   "display_name": "Python 3",
   "language": "python",
   "name": "python3"
  },
  "language_info": {
   "codemirror_mode": {
    "name": "ipython",
    "version": 3
   },
   "file_extension": ".py",
   "mimetype": "text/x-python",
   "name": "python",
   "nbconvert_exporter": "python",
   "pygments_lexer": "ipython3",
   "version": "3.6.1"
  }
 },
 "nbformat": 4,
 "nbformat_minor": 2
}
