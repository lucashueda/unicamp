{
 "cells": [
  {
   "cell_type": "code",
   "execution_count": 47,
   "metadata": {},
   "outputs": [
    {
     "data": {
      "text/plain": [
       "<module 'householder' from 'C:\\\\Users\\\\Hideki\\\\Desktop\\\\Github\\\\unicamp\\\\MS512\\\\lib\\\\householder.py'>"
      ]
     },
     "execution_count": 47,
     "metadata": {},
     "output_type": "execute_result"
    }
   ],
   "source": [
    "import utils\n",
    "import householder as hh\n",
    "\n",
    "import importlib\n",
    "import numpy as np\n",
    "importlib.reload(utils)\n",
    "importlib.reload(hh)"
   ]
  },
  {
   "cell_type": "markdown",
   "metadata": {},
   "source": [
    "# Inicializando uma matriz de hilbert"
   ]
  },
  {
   "cell_type": "code",
   "execution_count": 10,
   "metadata": {
    "scrolled": true
   },
   "outputs": [
    {
     "data": {
      "text/plain": [
       "array([[ 1.        ,  0.5       ,  0.33333333,  0.25      ,  0.2       ,\n",
       "         0.16666667],\n",
       "       [ 0.5       ,  0.33333333,  0.25      ,  0.2       ,  0.16666667,\n",
       "         0.14285714],\n",
       "       [ 0.33333333,  0.25      ,  0.2       ,  0.16666667,  0.14285714,\n",
       "         0.125     ],\n",
       "       [ 0.25      ,  0.2       ,  0.16666667,  0.14285714,  0.125     ,\n",
       "         0.11111111],\n",
       "       [ 0.2       ,  0.16666667,  0.14285714,  0.125     ,  0.11111111,\n",
       "         0.1       ],\n",
       "       [ 0.16666667,  0.14285714,  0.125     ,  0.11111111,  0.1       ,\n",
       "         0.09090909]])"
      ]
     },
     "execution_count": 10,
     "metadata": {},
     "output_type": "execute_result"
    }
   ],
   "source": [
    "H = utils.getHilbert(6)\n",
    "H"
   ]
  },
  {
   "cell_type": "code",
   "execution_count": 11,
   "metadata": {},
   "outputs": [
    {
     "data": {
      "text/plain": [
       "2.4499999999999997"
      ]
     },
     "execution_count": 11,
     "metadata": {},
     "output_type": "execute_result"
    }
   ],
   "source": [
    "utils.norma_mat1(H)"
   ]
  },
  {
   "cell_type": "markdown",
   "metadata": {},
   "source": [
    "# Fazendo a fatoração QR pela classe construida"
   ]
  },
  {
   "cell_type": "code",
   "execution_count": 12,
   "metadata": {
    "collapsed": true,
    "scrolled": true
   },
   "outputs": [],
   "source": [
    "house = hh.HouseHolder([1,2,3])\n",
    "Q2, R2= house.getQR(H)"
   ]
  },
  {
   "cell_type": "markdown",
   "metadata": {},
   "source": [
    "# Fazendo a fatoração QR pela lib do scipy"
   ]
  },
  {
   "cell_type": "code",
   "execution_count": 13,
   "metadata": {
    "collapsed": true
   },
   "outputs": [],
   "source": [
    "import scipy\n",
    "import scipy.linalg\n",
    "\n",
    "Q, R = scipy.linalg.qr(H)"
   ]
  },
  {
   "cell_type": "markdown",
   "metadata": {},
   "source": [
    "# Comparando as matrizes Q"
   ]
  },
  {
   "cell_type": "code",
   "execution_count": 14,
   "metadata": {
    "scrolled": false
   },
   "outputs": [
    {
     "name": "stdout",
     "output_type": "stream",
     "text": [
      "Matriz pelo scipy\n",
      "[[-0.8189  0.5397 -0.1893 -0.0482  0.009  -0.0011]\n",
      " [-0.4094 -0.332   0.7024  0.4489 -0.1617  0.0331]\n",
      " [-0.273  -0.4219  0.1529 -0.5723  0.5854 -0.232 ]\n",
      " [-0.2047 -0.4067 -0.2015 -0.3866 -0.4687  0.6188]\n",
      " [-0.1638 -0.3735 -0.3963  0.0915 -0.4285 -0.6961]\n",
      " [-0.1365 -0.3399 -0.4998  0.5574  0.4773  0.2785]]\n",
      "\n",
      "\n",
      "Matriz pela classe\n",
      "[[-0.8189  0.5397 -0.1893 -0.0482  0.009  -0.0011]\n",
      " [-0.4094 -0.332   0.7024  0.4489 -0.1617  0.0331]\n",
      " [-0.273  -0.4219  0.1529 -0.5723  0.5854 -0.232 ]\n",
      " [-0.2047 -0.4067 -0.2015 -0.3866 -0.4687  0.6188]\n",
      " [-0.1638 -0.3735 -0.3963  0.0915 -0.4285 -0.6961]\n",
      " [-0.1365 -0.3399 -0.4998  0.5574  0.4773  0.2785]]\n",
      "\n",
      "\n",
      "Diferença\n",
      "[[ 0. -0. -0.  0. -0. -0.]\n",
      " [ 0.  0.  0. -0.  0.  0.]\n",
      " [ 0.  0. -0.  0. -0. -0.]\n",
      " [ 0. -0. -0. -0.  0.  0.]\n",
      " [ 0. -0.  0.  0. -0.  0.]\n",
      " [ 0.  0. -0. -0.  0. -0.]]\n"
     ]
    }
   ],
   "source": [
    "print(\"Matriz pelo scipy\")\n",
    "print(Q.round(4))\n",
    "print('\\n')\n",
    "print(\"Matriz pela classe\")\n",
    "print(Q2.round(4))\n",
    "print('\\n')\n",
    "print(\"Diferença\")\n",
    "print((Q-Q2).round(4))"
   ]
  },
  {
   "cell_type": "code",
   "execution_count": 15,
   "metadata": {
    "scrolled": true
   },
   "outputs": [
    {
     "name": "stdout",
     "output_type": "stream",
     "text": [
      "Matriz pelo scipy\n",
      "[[ -1.22120000e+00  -7.01900000e-01  -5.04500000e-01  -3.97000000e-01\n",
      "   -3.28400000e-01  -2.80600000e-01]\n",
      " [  0.00000000e+00  -1.38500000e-01  -1.51100000e-01  -1.44400000e-01\n",
      "   -1.34000000e-01  -1.23700000e-01]\n",
      " [  0.00000000e+00   0.00000000e+00  -9.60000000e-03  -1.52000000e-02\n",
      "   -1.81000000e-02  -1.95000000e-02]\n",
      " [  0.00000000e+00   0.00000000e+00   0.00000000e+00   5.00000000e-04\n",
      "    1.00000000e-03   1.40000000e-03]\n",
      " [  0.00000000e+00   0.00000000e+00   0.00000000e+00   0.00000000e+00\n",
      "    0.00000000e+00   0.00000000e+00]\n",
      " [  0.00000000e+00   0.00000000e+00   0.00000000e+00   0.00000000e+00\n",
      "    0.00000000e+00   0.00000000e+00]]\n",
      "\n",
      "\n",
      "Matriz pela classe\n",
      "[[ -1.22120000e+00  -7.01900000e-01  -5.04500000e-01  -3.97000000e-01\n",
      "   -3.28400000e-01  -2.80600000e-01]\n",
      " [  0.00000000e+00  -1.38500000e-01  -1.51100000e-01  -1.44400000e-01\n",
      "   -1.34000000e-01  -1.23700000e-01]\n",
      " [ -0.00000000e+00   0.00000000e+00  -9.60000000e-03  -1.52000000e-02\n",
      "   -1.81000000e-02  -1.95000000e-02]\n",
      " [ -0.00000000e+00   0.00000000e+00  -0.00000000e+00   5.00000000e-04\n",
      "    1.00000000e-03   1.40000000e-03]\n",
      " [  0.00000000e+00  -0.00000000e+00   0.00000000e+00  -0.00000000e+00\n",
      "    0.00000000e+00   0.00000000e+00]\n",
      " [ -0.00000000e+00   0.00000000e+00  -0.00000000e+00   0.00000000e+00\n",
      "    0.00000000e+00   0.00000000e+00]]\n",
      "\n",
      "\n",
      "Diferença\n",
      "[[ 0.  0.  0.  0. -0.  0.]\n",
      " [-0.  0.  0.  0.  0.  0.]\n",
      " [ 0. -0.  0.  0. -0. -0.]\n",
      " [ 0. -0.  0.  0.  0.  0.]\n",
      " [-0.  0. -0.  0. -0. -0.]\n",
      " [ 0. -0.  0. -0. -0. -0.]]\n"
     ]
    }
   ],
   "source": [
    "print(\"Matriz pelo scipy\")\n",
    "print(R.round(4))\n",
    "print('\\n')\n",
    "print(\"Matriz pela classe\")\n",
    "print(R2.round(4))\n",
    "print('\\n')\n",
    "print(\"Diferença\")\n",
    "print((R-R2).round(4))"
   ]
  },
  {
   "cell_type": "markdown",
   "metadata": {},
   "source": [
    "# Testando propriedades de Q"
   ]
  },
  {
   "cell_type": "code",
   "execution_count": 16,
   "metadata": {},
   "outputs": [
    {
     "data": {
      "text/plain": [
       "array([[ 1., -0.,  0., -0.,  0.,  0.],\n",
       "       [-0.,  1., -0.,  0., -0., -0.],\n",
       "       [ 0., -0.,  1., -0., -0.,  0.],\n",
       "       [-0.,  0., -0.,  1.,  0., -0.],\n",
       "       [ 0., -0., -0.,  0.,  1., -0.],\n",
       "       [ 0., -0.,  0., -0., -0.,  1.]])"
      ]
     },
     "execution_count": 16,
     "metadata": {},
     "output_type": "execute_result"
    }
   ],
   "source": [
    "np.dot(Q,utils.transposta(Q)).round(4)"
   ]
  },
  {
   "cell_type": "markdown",
   "metadata": {
    "collapsed": true
   },
   "source": [
    "# Nossa fatoração está boa"
   ]
  },
  {
   "cell_type": "markdown",
   "metadata": {},
   "source": [
    "# Testando a resolução de sistema linear"
   ]
  },
  {
   "cell_type": "code",
   "execution_count": 17,
   "metadata": {},
   "outputs": [
    {
     "data": {
      "text/plain": [
       "<module 'householder' from 'C:\\\\Users\\\\Hideki\\\\Desktop\\\\Github\\\\unicamp\\\\MS512\\\\lib\\\\householder.py'>"
      ]
     },
     "execution_count": 17,
     "metadata": {},
     "output_type": "execute_result"
    }
   ],
   "source": [
    "import utils\n",
    "import householder as hh\n",
    "\n",
    "import importlib\n",
    "import numpy as np\n",
    "importlib.reload(utils)\n",
    "importlib.reload(hh)"
   ]
  },
  {
   "cell_type": "code",
   "execution_count": 18,
   "metadata": {},
   "outputs": [
    {
     "data": {
      "text/plain": [
       "array([[ 1.        ,  0.5       ,  0.33333333,  0.25      ,  0.2       ],\n",
       "       [ 0.5       ,  0.33333333,  0.25      ,  0.2       ,  0.16666667],\n",
       "       [ 0.33333333,  0.25      ,  0.2       ,  0.16666667,  0.14285714],\n",
       "       [ 0.25      ,  0.2       ,  0.16666667,  0.14285714,  0.125     ],\n",
       "       [ 0.2       ,  0.16666667,  0.14285714,  0.125     ,  0.11111111]])"
      ]
     },
     "execution_count": 18,
     "metadata": {},
     "output_type": "execute_result"
    }
   ],
   "source": [
    "i = 5\n",
    "H = utils.getHilbert(i)\n",
    "H"
   ]
  },
  {
   "cell_type": "code",
   "execution_count": 19,
   "metadata": {
    "collapsed": true
   },
   "outputs": [],
   "source": [
    "house = hh.HouseHolder(H)"
   ]
  },
  {
   "cell_type": "code",
   "execution_count": 20,
   "metadata": {},
   "outputs": [
    {
     "data": {
      "text/plain": [
       "array([[  2.50000000e+01,  -3.00000000e+02,   1.05000000e+03,\n",
       "         -1.40000000e+03,   6.30000000e+02],\n",
       "       [ -3.00000000e+02,   4.80000000e+03,  -1.89000000e+04,\n",
       "          2.68800000e+04,  -1.26000000e+04],\n",
       "       [  1.05000000e+03,  -1.89000000e+04,   7.93800000e+04,\n",
       "         -1.17600000e+05,   5.67000000e+04],\n",
       "       [ -1.40000000e+03,   2.68800000e+04,  -1.17600000e+05,\n",
       "          1.79200000e+05,  -8.82000000e+04],\n",
       "       [  6.30000000e+02,  -1.26000000e+04,   5.67000000e+04,\n",
       "         -8.82000000e+04,   4.41000000e+04]])"
      ]
     },
     "execution_count": 20,
     "metadata": {},
     "output_type": "execute_result"
    }
   ],
   "source": [
    "inv_house = house.resolve_sistema(np.eye(i))\n",
    "inv_house"
   ]
  },
  {
   "cell_type": "code",
   "execution_count": 21,
   "metadata": {},
   "outputs": [
    {
     "data": {
      "text/plain": [
       "array([[ 1.,  0., -0.,  0., -0.],\n",
       "       [-0.,  1., -0.,  0., -0.],\n",
       "       [-0.,  0.,  1.,  0., -0.],\n",
       "       [-0.,  0.,  0.,  1., -0.],\n",
       "       [-0., -0.,  0.,  0.,  1.]])"
      ]
     },
     "execution_count": 21,
     "metadata": {},
     "output_type": "execute_result"
    }
   ],
   "source": [
    "np.dot(H,inv_house).round(4)"
   ]
  },
  {
   "cell_type": "code",
   "execution_count": 22,
   "metadata": {
    "collapsed": true
   },
   "outputs": [],
   "source": [
    "Q, R = scipy.linalg.qr(H)"
   ]
  },
  {
   "cell_type": "code",
   "execution_count": 23,
   "metadata": {
    "scrolled": true
   },
   "outputs": [
    {
     "name": "stdout",
     "output_type": "stream",
     "text": [
      "[[-0.8265843   0.53335463 -0.17530535  0.03910207  0.00550474]\n",
      " [-0.41329215 -0.37405354  0.7172624  -0.40334521 -0.11009471]\n",
      " [-0.2755281  -0.46294598  0.05766473  0.67896462  0.49542619]\n",
      " [-0.20664607 -0.44331911 -0.35262561  0.20615371 -0.77066296]\n",
      " [-0.16531686 -0.40591376 -0.57195511 -0.57644719  0.38533148]]\n",
      "\n",
      "\n",
      "[[ -1.20979796e+00  -6.88820248e-01  -4.92014463e-01  -3.85411329e-01\n",
      "   -3.17759341e-01]\n",
      " [  0.00000000e+00  -1.30059810e-01  -1.40191904e-01  -1.32700236e-01\n",
      "   -1.22322889e-01]\n",
      " [  0.00000000e+00   0.00000000e+00  -8.06537859e-03  -1.26325450e-02\n",
      "   -1.49082870e-02]\n",
      " [  0.00000000e+00   0.00000000e+00   0.00000000e+00  -3.38121669e-04\n",
      "   -6.89314703e-04]\n",
      " [  0.00000000e+00   0.00000000e+00   0.00000000e+00   0.00000000e+00\n",
      "    8.73767527e-06]]\n"
     ]
    }
   ],
   "source": [
    "print(Q)\n",
    "print('\\n')\n",
    "print(R)"
   ]
  },
  {
   "cell_type": "code",
   "execution_count": 24,
   "metadata": {},
   "outputs": [
    {
     "data": {
      "text/plain": [
       "array([[  2.50000000e+01,  -3.00000000e+02,   1.05000000e+03,\n",
       "         -1.40000000e+03,   6.30000000e+02],\n",
       "       [ -3.00000000e+02,   4.80000000e+03,  -1.89000000e+04,\n",
       "          2.68800000e+04,  -1.26000000e+04],\n",
       "       [  1.05000000e+03,  -1.89000000e+04,   7.93800000e+04,\n",
       "         -1.17600000e+05,   5.67000000e+04],\n",
       "       [ -1.40000000e+03,   2.68800000e+04,  -1.17600000e+05,\n",
       "          1.79200000e+05,  -8.82000000e+04],\n",
       "       [  6.30000000e+02,  -1.26000000e+04,   5.67000000e+04,\n",
       "         -8.82000000e+04,   4.41000000e+04]])"
      ]
     },
     "execution_count": 24,
     "metadata": {},
     "output_type": "execute_result"
    }
   ],
   "source": [
    "inf = np.linalg.solve(R, np.dot(utils.transposta(Q),np.eye(i)))\n",
    "inf"
   ]
  },
  {
   "cell_type": "code",
   "execution_count": 25,
   "metadata": {},
   "outputs": [
    {
     "data": {
      "text/plain": [
       "array([[ 1.,  0., -0.,  0., -0.],\n",
       "       [ 0.,  1.,  0., -0.,  0.],\n",
       "       [ 0., -0.,  1.,  0.,  0.],\n",
       "       [ 0., -0.,  0.,  1.,  0.],\n",
       "       [ 0., -0.,  0., -0.,  1.]])"
      ]
     },
     "execution_count": 25,
     "metadata": {},
     "output_type": "execute_result"
    }
   ],
   "source": [
    "np.dot(H,inf).round(4)"
   ]
  },
  {
   "cell_type": "code",
   "execution_count": 26,
   "metadata": {},
   "outputs": [
    {
     "data": {
      "text/plain": [
       "array([[  2.50000000e+01,  -3.00000000e+02,   1.05000000e+03,\n",
       "         -1.40000000e+03,   6.30000000e+02],\n",
       "       [ -3.00000000e+02,   4.80000000e+03,  -1.89000000e+04,\n",
       "          2.68800000e+04,  -1.26000000e+04],\n",
       "       [  1.05000000e+03,  -1.89000000e+04,   7.93800000e+04,\n",
       "         -1.17600000e+05,   5.67000000e+04],\n",
       "       [ -1.40000000e+03,   2.68800000e+04,  -1.17600000e+05,\n",
       "          1.79200000e+05,  -8.82000000e+04],\n",
       "       [  6.30000000e+02,  -1.26000000e+04,   5.67000000e+04,\n",
       "         -8.82000000e+04,   4.41000000e+04]])"
      ]
     },
     "execution_count": 26,
     "metadata": {},
     "output_type": "execute_result"
    }
   ],
   "source": [
    "invof = np.linalg.solve(H,np.eye(i)) \n",
    "invof"
   ]
  },
  {
   "cell_type": "code",
   "execution_count": 27,
   "metadata": {},
   "outputs": [
    {
     "data": {
      "text/plain": [
       "array([[ 1., -0.,  0.,  0., -0.],\n",
       "       [ 0.,  1., -0., -0., -0.],\n",
       "       [ 0., -0.,  1.,  0.,  0.],\n",
       "       [ 0., -0.,  0.,  1.,  0.],\n",
       "       [-0.,  0., -0.,  0.,  1.]])"
      ]
     },
     "execution_count": 27,
     "metadata": {},
     "output_type": "execute_result"
    }
   ],
   "source": [
    "np.dot(H,invof).round(4)"
   ]
  },
  {
   "cell_type": "markdown",
   "metadata": {
    "collapsed": true
   },
   "source": [
    "# Número de condicionamento"
   ]
  },
  {
   "cell_type": "code",
   "execution_count": 62,
   "metadata": {},
   "outputs": [
    {
     "data": {
      "text/plain": [
       "array([[ 1.        ,  0.5       ,  0.33333333],\n",
       "       [ 0.5       ,  0.33333333,  0.25      ],\n",
       "       [ 0.33333333,  0.25      ,  0.2       ]])"
      ]
     },
     "execution_count": 62,
     "metadata": {},
     "output_type": "execute_result"
    }
   ],
   "source": [
    "importlib.reload(utils)\n",
    "i = 3\n",
    "H = utils.getHilbert(i)\n",
    "H"
   ]
  },
  {
   "cell_type": "code",
   "execution_count": 63,
   "metadata": {},
   "outputs": [
    {
     "data": {
      "text/plain": [
       "array([[   9.,  -36.,   30.],\n",
       "       [ -36.,  192., -180.],\n",
       "       [  30., -180.,  180.]])"
      ]
     },
     "execution_count": 63,
     "metadata": {},
     "output_type": "execute_result"
    }
   ],
   "source": [
    "house = hh.HouseHolder(H)\n",
    "inv_house = house.resolve_sistema(np.eye(i))\n",
    "inv_house"
   ]
  },
  {
   "cell_type": "code",
   "execution_count": 64,
   "metadata": {},
   "outputs": [
    {
     "name": "stdout",
     "output_type": "stream",
     "text": [
      "(3, 3)\n",
      "(3, 3)\n"
     ]
    },
    {
     "data": {
      "text/plain": [
       "748.00000000000625"
      ]
     },
     "execution_count": 64,
     "metadata": {},
     "output_type": "execute_result"
    }
   ],
   "source": [
    "K1 = utils.norma_mat1(inv_house)*utils.norma_mat1(H)\n",
    "K1"
   ]
  },
  {
   "cell_type": "code",
   "execution_count": 65,
   "metadata": {},
   "outputs": [
    {
     "name": "stdout",
     "output_type": "stream",
     "text": [
      "(1, 3)\n",
      "oi\n"
     ]
    },
    {
     "data": {
      "text/plain": [
       "array([ 1.        ,  0.5       ,  0.33333333])"
      ]
     },
     "execution_count": 65,
     "metadata": {},
     "output_type": "execute_result"
    }
   ],
   "source": [
    "utils.norma_mat1(H[:,0])"
   ]
  },
  {
   "cell_type": "code",
   "execution_count": 70,
   "metadata": {},
   "outputs": [
    {
     "data": {
      "text/plain": [
       "1.8333333333333333"
      ]
     },
     "execution_count": 70,
     "metadata": {},
     "output_type": "execute_result"
    }
   ],
   "source": [
    "sum([np.abs(v) for v in H[:,0]])"
   ]
  },
  {
   "cell_type": "code",
   "execution_count": 67,
   "metadata": {},
   "outputs": [
    {
     "ename": "SyntaxError",
     "evalue": "unexpected EOF while parsing (<ipython-input-67-21e2ed83fc19>, line 3)",
     "output_type": "error",
     "traceback": [
      "\u001b[1;36m  File \u001b[1;32m\"<ipython-input-67-21e2ed83fc19>\"\u001b[1;36m, line \u001b[1;32m3\u001b[0m\n\u001b[1;33m    \u001b[0m\n\u001b[1;37m    ^\u001b[0m\n\u001b[1;31mSyntaxError\u001b[0m\u001b[1;31m:\u001b[0m unexpected EOF while parsing\n"
     ]
    }
   ],
   "source": [
    "for i in range(i):\n",
    "    for j in range(i):\n",
    "        "
   ]
  },
  {
   "cell_type": "code",
   "execution_count": null,
   "metadata": {
    "collapsed": true
   },
   "outputs": [],
   "source": []
  }
 ],
 "metadata": {
  "kernelspec": {
   "display_name": "Python 3",
   "language": "python",
   "name": "python3"
  },
  "language_info": {
   "codemirror_mode": {
    "name": "ipython",
    "version": 3
   },
   "file_extension": ".py",
   "mimetype": "text/x-python",
   "name": "python",
   "nbconvert_exporter": "python",
   "pygments_lexer": "ipython3",
   "version": "3.6.1"
  }
 },
 "nbformat": 4,
 "nbformat_minor": 2
}
